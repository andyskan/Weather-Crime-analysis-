{
 "cells": [
  {
   "cell_type": "code",
   "execution_count": 24,
   "metadata": {
    "collapsed": true
   },
   "outputs": [],
   "source": [
    "import pandas as pd\n",
    "import numpy as np\n",
    "from sklearn import preprocessing,model_selection,neighbors"
   ]
  },
  {
   "cell_type": "code",
   "execution_count": 5,
   "metadata": {
    "collapsed": true
   },
   "outputs": [],
   "source": [
    "df=pd.read_csv('newTraining.csv')"
   ]
  },
  {
   "cell_type": "code",
   "execution_count": 18,
   "metadata": {},
   "outputs": [
    {
     "data": {
      "text/plain": [
       "weatherCode\n",
       "1          34\n",
       "2          49\n",
       "3          60\n",
       "4          61\n",
       "5          43\n",
       "6          17\n",
       "7          32\n",
       "8         195\n",
       "9         269\n",
       "10     636632\n",
       "11        106\n",
       "12         40\n",
       "13       1106\n",
       "14         31\n",
       "15        940\n",
       "16         51\n",
       "17        117\n",
       "18       1978\n",
       "19       1675\n",
       "20        418\n",
       "21        380\n",
       "22        239\n",
       "23         85\n",
       "24        181\n",
       "25        354\n",
       "26        239\n",
       "27        215\n",
       "28        189\n",
       "29        100\n",
       "30        554\n",
       "        ...  \n",
       "93      20016\n",
       "94        485\n",
       "95      40662\n",
       "96         38\n",
       "97        390\n",
       "98      19826\n",
       "99        584\n",
       "100        38\n",
       "101       767\n",
       "102       196\n",
       "103       445\n",
       "104        37\n",
       "105      1663\n",
       "106       298\n",
       "107       728\n",
       "108      2709\n",
       "109      3075\n",
       "110      2334\n",
       "111      3601\n",
       "112      1058\n",
       "113      1746\n",
       "114       102\n",
       "115      1557\n",
       "116       352\n",
       "117      1850\n",
       "118        23\n",
       "119        23\n",
       "120       826\n",
       "121      1155\n",
       "122       324\n",
       "Length: 121, dtype: int64"
      ]
     },
     "execution_count": 18,
     "metadata": {},
     "output_type": "execute_result"
    }
   ],
   "source": [
    "df.groupby('weatherCode').size()"
   ]
  },
  {
   "cell_type": "code",
   "execution_count": 35,
   "metadata": {
    "collapsed": true
   },
   "outputs": [],
   "source": [
    "xFrame=pd.DataFrame([df['AREA'],df['holidayCd'],df['hourCd'],df['weatherCode'],df['weekDayNum']])"
   ]
  },
  {
   "cell_type": "code",
   "execution_count": 47,
   "metadata": {
    "collapsed": true
   },
   "outputs": [],
   "source": [
    "x=np.array(xFrame)\n",
    "y=np.array(df['typeCd'])"
   ]
  },
  {
   "cell_type": "code",
   "execution_count": 56,
   "metadata": {
    "collapsed": true
   },
   "outputs": [],
   "source": [
    "x=np.transpose(x)"
   ]
  },
  {
   "cell_type": "code",
   "execution_count": 58,
   "metadata": {
    "collapsed": true
   },
   "outputs": [],
   "source": [
    "x_train,x_test,y_train,y_test=model_selection.train_test_split(x,y,test_size=0.25)"
   ]
  },
  {
   "cell_type": "code",
   "execution_count": 59,
   "metadata": {
    "collapsed": true
   },
   "outputs": [],
   "source": [
    "clf=neighbors.KNeighborsClassifier()"
   ]
  },
  {
   "cell_type": "code",
   "execution_count": null,
   "metadata": {
    "collapsed": true
   },
   "outputs": [],
   "source": [
    "clf.fit(x_train,y_train)"
   ]
  }
 ],
 "metadata": {
  "kernelspec": {
   "display_name": "Python 3",
   "language": "python",
   "name": "python3"
  },
  "language_info": {
   "codemirror_mode": {
    "name": "ipython",
    "version": 3
   },
   "file_extension": ".py",
   "mimetype": "text/x-python",
   "name": "python",
   "nbconvert_exporter": "python",
   "pygments_lexer": "ipython3",
   "version": "3.4.4"
  }
 },
 "nbformat": 4,
 "nbformat_minor": 2
}
